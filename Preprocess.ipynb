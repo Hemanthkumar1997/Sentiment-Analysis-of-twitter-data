{
 "cells": [
  {
   "cell_type": "markdown",
   "metadata": {},
   "source": [
    "### imports"
   ]
  },
  {
   "cell_type": "code",
   "execution_count": 7,
   "metadata": {
    "scrolled": true
   },
   "outputs": [],
   "source": [
    "import re\n",
    "import time\n",
    "import random\n",
    "import math\n",
    "import pandas as pd\n",
    "import nltk\n",
    "from nltk.stem import *\n",
    "from sklearn import metrics\n",
    "from nltk.corpus import stopwords\n",
    "from spellchecker import SpellChecker\n",
    "import matplotlib.pyplot as plt"
   ]
  },
  {
   "cell_type": "markdown",
   "metadata": {},
   "source": [
    "### global variables and objects"
   ]
  },
  {
   "cell_type": "code",
   "execution_count": 8,
   "metadata": {},
   "outputs": [],
   "source": [
    "words=stopwords.words('english')\n",
    "words.extend([\"are\",\"m\",\"im\",\"every\",\"so\",\"father\",\"mother\",\"parent\",\"son\",\"daughter\",\"child\",\"husband\",\n",
    "             \"wife\",\"spouse\",\"brother\",\"sister\",\"sibling\",\"grandfather\",\"grandmother\",\"grandparents\",\"r\",\n",
    "             \"grandson\",\"granddaughter\",\"grandchild\",\"uncle\",\"aunt\",\"nephew\",\"niece\",\"cousin\",\"quote\",\"u\",\"too\"])\n",
    "rem=[\"don't\",'aren', \"aren't\", 'couldn', \"couldn't\", 'didn', \"didn't\", 'doesn', \"doesn't\", 'hadn', \"hadn't\",\n",
    "     'hasn', \"hasn't\", 'haven', \"haven't\", 'isn', \"isn't\", 'ma', 'mightn', \"mightn't\", 'mustn', \"mustn't\", \n",
    "     'needn', \"needn't\", 'shan', \"shan't\", 'shouldn', \"shouldn't\", 'wasn', \"wasn't\", 'weren', \"weren't\", \n",
    "     'won', \"won't\", 'wouldn', \"wouldn't\",]\n",
    "for x in rem:\n",
    "    words.remove(x)\n",
    "negprob={}\n",
    "posprob={}\n",
    "count={}\n",
    "poscount={}\n",
    "negcount={}\n",
    "lemmatizer = WordNetLemmatizer() \n",
    "spell=SpellChecker()\n",
    "wrongwords={}\n",
    "msg=[]\n",
    "slang={}"
   ]
  },
  {
   "cell_type": "markdown",
   "metadata": {},
   "source": [
    "### All functions"
   ]
  },
  {
   "cell_type": "code",
   "execution_count": null,
   "metadata": {},
   "outputs": [],
   "source": [
    "def train_test_split_list(value,label,test_size=0.3):\n",
    "    xtrain=[]\n",
    "    xtest=[]\n",
    "    ytrain=[]\n",
    "    ytest=[]\n",
    "    i=int(test_size*len(label))\n",
    "    j=0\n",
    "    while j<i:\n",
    "        l=len(label)\n",
    "        index=random.randint(0,l-1)\n",
    "        vl=value.pop(index)\n",
    "        lb=label.pop(index)\n",
    "        if vl!=\"\":\n",
    "            xtest.append(vl)\n",
    "            ytest.append(lb)\n",
    "        j+=1\n",
    "    xtrain=value\n",
    "    ytrain=label\n",
    "    return xtrain,xtest,ytrain,ytest\n",
    "\n",
    "def read(filename,encoding=\"utf8\"):\n",
    "    global msg\n",
    "    file=open(filename,'r',encoding=encoding)\n",
    "    msg= file.readlines()\n",
    "    x=[]\n",
    "    y=[]\n",
    "    for i in msg:\n",
    "        try:\n",
    "            l,v=i.split(',')\n",
    "            x.append(v)\n",
    "            y.append(int(l))\n",
    "        except:\n",
    "            y.append(0)\n",
    "    return x,y\n",
    "\n",
    "def extract_emo(line):\n",
    "    y=re.sub(r'(.)\\1{2,}',r'\\1',line)\n",
    "    y=re.sub('\\s+',\"\",y)\n",
    "    y=re.sub('\\.+',\"\",y)\n",
    "    y=re.findall(r'\\W{2,}',y)\n",
    "    return y\n",
    "\n",
    "def remove_link(line):\n",
    "    y=line.split()\n",
    "    x=\" \".join([re.sub(r'http:.*','',r) for r in y])\n",
    "    return x.strip()\n",
    "\n",
    "def remove_time_stamp(line):\n",
    "    x=re.sub(r'\\d+:\\d+','',line)\n",
    "    return x.strip()\n",
    "\n",
    "def remove_tag(line):\n",
    "        y=re.sub(r'@\\w+','',line)\n",
    "        y=str.lower(y)\n",
    "        return y.strip()\n",
    "\n",
    "def remove_hashtag(line):\n",
    "    y=re.sub(r'#\\w+','',line)\n",
    "    y=str.lower(y)\n",
    "    return y.strip()\n",
    "\n",
    "def remove_symbols(line,replacement):\n",
    "    y=re.sub(r'&lt',\"\",line)\n",
    "    y=re.sub(r'&gt',\"\",y)\n",
    "    y=re.sub(r'\\W+',replacement,y)\n",
    "    y=re.sub(r' {2,}',\" \",y)\n",
    "    return y.strip()\n",
    "\n",
    "def remove_numbers(line):\n",
    "    y=re.sub(r'\\S+3','e',line)\n",
    "    y=re.sub(r'\\S+5','s',line)\n",
    "    y=re.sub(r'\\d+',' ',line)\n",
    "    return y.strip()\n",
    "\n",
    "def shorten(line):\n",
    "    y=re.sub(r'(.)\\1{2,}',r'\\1\\1',line)\n",
    "    return y.strip()\n",
    "\n",
    "def remove_stopwords(line):\n",
    "    global words\n",
    "    y=\"\"\n",
    "    for x in line.split():\n",
    "        if x not in words:\n",
    "            y+=x+\" \"\n",
    "    return y.strip()\n",
    "\n",
    "def lemmatiz(word):\n",
    "    global spell,wrongwords,lemmatizer \n",
    "    try:\n",
    "        misspelled=spell.unknown([word])\n",
    "        for i in misspelled:\n",
    "            if i not in wrongwords:\n",
    "                wrongwords[i]=spell.correction(word)   \n",
    "            word=wrongwords[i]\n",
    "        word=lemmatizer.lemmatize(word,pos=\"v\")\n",
    "        word=lemmatizer.lemmatize(word,pos=\"a\")\n",
    "        word=lemmatizer.lemmatize(word)\n",
    "    except:\n",
    "        pass\n",
    "    return word\n",
    "\n",
    "def substitute_slang(line):\n",
    "    global slang\n",
    "    x=line.split()\n",
    "    for i in x:\n",
    "        if i in slang:\n",
    "            i.replace(i,slang[i])\n",
    "    return ' '.join(x)\n",
    "    \n",
    "def rem_proper_noun(line):\n",
    "    tagged_sentence = nltk.tag.pos_tag(line.split())\n",
    "    edited_sentence = [word for word,tag in tagged_sentence if tag != 'NNP' and tag != 'NNPS']\n",
    "    edited_sentence = [word for word in edited_sentence if len(word)>1]\n",
    "    return ' '.join(edited_sentence)\n",
    "\n",
    "def preprocess(line):\n",
    "    global spell,wrongwords\n",
    "    x=extract_emo(line)\n",
    "    line=str.lower(line)\n",
    "    line=remove_stopwords(line)\n",
    "    line=remove_link(line)\n",
    "    line=substitute_slang(line)\n",
    "    line=remove_time_stamp(line)\n",
    "    line=remove_tag(line)\n",
    "    line=remove_hashtag(line)\n",
    "    line=remove_numbers(line)\n",
    "    line=remove_symbols(line,' ')\n",
    "    line=shorten(line)\n",
    "    line=remove_stopwords(line)\n",
    "    y=line.split()\n",
    "    z=[]\n",
    "    for i in y:\n",
    "        z.append(lemmatiz(i))\n",
    "    line=\"\"\n",
    "    for word in z:\n",
    "        line+=word+\" \"\n",
    "    line=remove_stopwords(line)\n",
    "    line=rem_proper_noun(line)\n",
    "    line+(\" \".join(x))\n",
    "    return line.strip()\n",
    "\n",
    "def train(xtrain,ytrain,ttype=\"text\"):\n",
    "    global count,negprob,posprob,poscount,negcount,words    \n",
    "    if ttype==\"text\":\n",
    "        xtrain=map(preprocess,xtrain)\n",
    "    for index,line in enumerate(xtrain):\n",
    "        if len(line)!=0:\n",
    "            y=line.split()\n",
    "            print(y)\n",
    "            y=[x for x in y if len(x)>1]\n",
    "            for j in y:\n",
    "                if j not in count:\n",
    "                    count[j]=1\n",
    "                else:\n",
    "                    count[j]+=1\n",
    "                if ytrain[index]==1:            \n",
    "                    if j not in poscount:\n",
    "                        poscount[j]=1\n",
    "                    else:\n",
    "                        poscount[j]+=1\n",
    "                elif ytrain[index]==0:\n",
    "                    if j not in negcount:\n",
    "                        negcount[j]=1\n",
    "                    else:\n",
    "                        negcount[j]+=1\n",
    "    for i in count:\n",
    "        if i in poscount:\n",
    "            posprob[i]=poscount[i]/count[i]\n",
    "            negprob[i]=1-posprob[i]\n",
    "        elif i in negcount:\n",
    "            negprob[i]=negcount[i]/count[i]\n",
    "            posprob[i]=1-negprob[i]\n",
    "            \n",
    "\n",
    "def test(xtest):\n",
    "    global count,negprob,posprob\n",
    "    ypred=[]\n",
    "    for line in xtest:\n",
    "        y=extract_emo(line)\n",
    "        line=preprocess(line)\n",
    "        y.extend(line.split())\n",
    "        pos_pred_prob={}\n",
    "        neg_pred_prob={}\n",
    "        pcount=0\n",
    "        ncount=0\n",
    "        neutcount=0\n",
    "        for i in y:\n",
    "            if i not in posprob:\n",
    "                pos_pred_prob[i]=0\n",
    "            if i not in negprob:\n",
    "                neg_pred_prob[i]=0\n",
    "            if i in posprob:\n",
    "                pos_pred_prob[i]=posprob[i]\n",
    "                neg_pred_prob[i]=1-posprob[i]\n",
    "            if pos_pred_prob[i]>neg_pred_prob[i]:\n",
    "                pcount+=1\n",
    "            elif pos_pred_prob[i]<neg_pred_prob[i]:\n",
    "                ncount+=1\n",
    "            else:\n",
    "                neutcount+=1\n",
    "        if pcount+neutcount>ncount:\n",
    "            ypred.append(1)\n",
    "        elif ncount>pcount and ncount>neutcount:\n",
    "            ypred.append(0)\n",
    "        else:\n",
    "            pos=0\n",
    "            neg=0\n",
    "            for i in pos_pred_prob:\n",
    "                pos+=pos_pred_prob[i]\n",
    "                neg+=neg_pred_prob[i]\n",
    "            if pos>neg:\n",
    "                ypred.append(1)\n",
    "            elif pos < neg:\n",
    "                ypred.append(0)\n",
    "            else:\n",
    "                ypred.append(1)\n",
    "    return ypred\n"
   ]
  },
  {
   "cell_type": "markdown",
   "metadata": {},
   "source": [
    "### Reading the dataset and splitting to test and train set"
   ]
  },
  {
   "cell_type": "code",
   "execution_count": 10,
   "metadata": {
    "scrolled": true
   },
   "outputs": [
    {
     "name": "stdout",
     "output_type": "stream",
     "text": [
      "['(￣ー￣)']\n",
      "['(￣□￣;)']\n",
      "['°o°']\n",
      "['°o°']\n",
      "[':o']\n",
      "['o_o']\n",
      "['o_0']\n",
      "['o.o']\n",
      "['(o.o)']\n",
      "['oo']\n",
      "['(*´▽｀*)']\n",
      "['(*°∀°)=3']\n",
      "['（', 'ﾟ', 'дﾟ)']\n",
      "['(°◇°)']\n",
      "['(*￣m￣)']\n",
      "['ヽ(´ー｀)┌']\n",
      "['¯\\\\_(ツ)_/¯']\n",
      "['(´･ω･`)']\n",
      "['(‘a`)']\n",
      "['(*^3^)/~☆']\n",
      "['uwu']\n",
      "['uwu']\n",
      "['<_<']\n",
      "['>_>']\n",
      "[':-|']\n",
      "[':-l']\n",
      "['<:-|']\n",
      "[':-###..']\n",
      "[':###..']\n",
      "['%-)']\n",
      "['%)']\n",
      "['(>_<)']\n",
      "['(>_<)>']\n",
      "[\"(';')\"]\n",
      "['(^^?']\n",
      "['(^_^;)']\n",
      "['(-_-;)']\n",
      "['(~_~;)']\n",
      "['(·.·;)']\n",
      "['(·_·;)']\n",
      "['(··;)', '^^;']\n",
      "['^_^;']\n",
      "['(#^.^#)']\n",
      "['(^\"0\"^;)']\n",
      "['(^.^)y-.o?']\n",
      "['(-.-)y-°°°']\n",
      "['(-_-)zzz']\n",
      "['(^_-)']\n",
      "['(^_-)-?']\n",
      "['((+_+))']\n",
      "['(+o+)']\n",
      "['(°°)']\n",
      "['(°-°)']\n",
      "['(°.°)']\n",
      "['(°_°)']\n",
      "['(°_°>)']\n",
      "['(°?°)']\n",
      "['(o|o)']\n",
      "['<(`^´)>']\n",
      "['^_^']\n",
      "['(°o°)']\n",
      "['(^_^)/']\n",
      "['(^o^)/']\n",
      "['(^o^)/']\n",
      "['(^^)/']\n",
      "['(???)/']\n",
      "['(/???)/']\n",
      "['(^o^)?']\n",
      "['n(·?·)n']\n",
      "['(·?·)']\n",
      "['^?^']\n",
      "['__)']\n",
      "['_(._.)_']\n",
      "['_(_^_)_']\n",
      "['<(_', '_)>']\n",
      "['<m(__)m>']\n",
      "['m(__)m']\n",
      "['m(_', '_)m']\n",
      "['\\\\(°?\\\\)']\n",
      "['(/?°)/']\n",
      "[\"('_')\"]\n",
      "['(/_;)']\n",
      "['(t_t)']\n",
      "['(;_;)']\n",
      "['(;_;']\n",
      "['(;_:)']\n",
      "['(;o;)']\n",
      "['(:_;)']\n",
      "['(tot)']\n",
      "['(t?t)']\n",
      "[';_;']\n",
      "[';-;']\n",
      "[';n;']\n",
      "[';;']\n",
      "['q.q']\n",
      "['t.t']\n",
      "['tnt']\n",
      "['qq']\n",
      "['q_q']\n",
      "['(?_?)!!']\n",
      "['(-.-)']\n",
      "['(-_-)']\n",
      "['(??)']\n",
      "['(;?_?)']\n",
      "['(=_=)']\n",
      "['(=^·^=)']\n",
      "['(=^··^=)']\n",
      "['=_^=']\n",
      "['(..)']\n",
      "['(._.)']\n",
      "['^m^']\n",
      "['(=^·^=)']\n",
      "['(=^··^=)']\n",
      "['\"=_^=', '\"']\n",
      "['(..)']\n",
      "['(._.)']\n",
      "['^m^']\n",
      "['(・・?']\n",
      "['(?_?)']\n",
      "['(－‸ლ)']\n",
      "['>^_^<']\n",
      "['<^!^>']\n",
      "['^/^']\n",
      "['(*^_^*)']\n",
      "['§^.^§']\n",
      "['(^<^)']\n",
      "['(^.^)']\n",
      "['(^ム^)']\n",
      "['(^·^)']\n",
      "['(^.^)']\n",
      "['(^_^.)']\n",
      "['(^_^)']\n",
      "['(^^)']\n",
      "['(^j^)']\n",
      "['(^^)/~~~']\n",
      "['(^_^)/~']\n",
      "['(;_;)/~~~']\n",
      "['(^.^)/~~~']\n",
      "['(-_-)/~~~']\n",
      "['($··)/~~~']\n",
      "['(@^^)/~~~']\n",
      "['(t_t)/~~~']\n",
      "['(tot)/~~~']\n",
      "['(*^.^*)']\n",
      "['＼(~o~)／']\n",
      "['＼(^o^)／']\n",
      "['＼(-o-)／']\n",
      "['ヽ(^。^)ノ']\n",
      "['ヽ(^o^)丿']\n",
      "['(*^0^*)']\n",
      "['(*_*)']\n",
      "['(*_*;']\n",
      "['(+_+)']\n",
      "['(@_@)']\n",
      "['(@_@。']\n",
      "['(＠_＠;)']\n",
      "['＼(◎o◎)／！']\n",
      "['(*^^)v']\n",
      "['(^^)v']\n",
      "['(^_^)v']\n",
      "['(’-’*)']\n",
      "['(^v^)']\n",
      "['(^▽^)']\n",
      "['(・∀・)']\n",
      "['(´∀`)']\n",
      "['(⌒▽⌒）']\n",
      "['(~o~)']\n",
      "['(~_~)']\n",
      "['(^^ゞ']\n",
      "['(p_-)']\n",
      "['\"(-\"\"-)\"']\n",
      "['\"(-', '-\"\")\"']\n",
      "['(^_^メ)']\n",
      "['(-_-メ)']\n",
      "['(~_~メ)']\n",
      "['(－－〆)']\n",
      "['(・へ・)']\n",
      "[\"(`')\"]\n",
      "['<`～´>']\n",
      "['<`ヘ´>']\n",
      "['(ーー;)']\n",
      "['(^0_0^)']\n",
      "['(', '..)φ']\n",
      "['φ(..)']\n",
      "['(●^o^●)']\n",
      "['(^v^)']\n",
      "['(^u^)']\n",
      "['(^◇^)']\n",
      "['(^o^)']\n",
      "['(^o^)']\n",
      "['(^○^)']\n",
      "[')^o^(']\n",
      "['(✿◠‿◠)']\n",
      "['(', '^)o(^', ')']\n",
      "['(*^▽^*)']\n",
      "['(-', '-;)']\n",
      "[':‑)']\n",
      "[':)']\n",
      "[':-]']\n",
      "[':]']\n",
      "[':-3']\n",
      "[':3']\n",
      "[':->']\n",
      "[':>']\n",
      "['8-)']\n",
      "['8)']\n",
      "[':-}']\n",
      "[':}']\n",
      "[':o)']\n",
      "[':c)']\n",
      "[':^)']\n",
      "['=]']\n",
      "['=)']\n",
      "[':‑d']\n",
      "[':d']\n",
      "['8‑d']\n",
      "['8d']\n",
      "['x‑d']\n",
      "['xd']\n",
      "['x‑d']\n",
      "['xd']\n",
      "['=d']\n",
      "['=3']\n",
      "['b^d']\n",
      "[':-))']\n",
      "[':‑(']\n",
      "[':(']\n",
      "[':‑c']\n",
      "[':c']\n",
      "[':‑<']\n",
      "[':<']\n",
      "[':‑[']\n",
      "[':[']\n",
      "[':-||']\n",
      "['>:[']\n",
      "[':{']\n",
      "[':@']\n",
      "['>:(']\n",
      "[\":'‑(\"]\n",
      "[\":'(\"]\n",
      "[\":'‑)\"]\n",
      "[\":')\"]\n",
      "[\"d‑':\"]\n",
      "['d:<']\n",
      "['d:']\n",
      "['d8']\n",
      "['d;']\n",
      "['d=']\n",
      "['dx']\n",
      "[':‑o']\n",
      "[':o']\n",
      "[':‑o']\n",
      "[':o']\n",
      "[':-0']\n",
      "['8‑0']\n",
      "['>:o']\n",
      "[':-*']\n",
      "[':*']\n",
      "[':×']\n",
      "[';‑)']\n",
      "[';)']\n",
      "['*-)']\n",
      "['*)']\n",
      "[';‑]']\n",
      "[';]']\n",
      "[';^)']\n",
      "[';d']\n",
      "[':‑p']\n",
      "[':p']\n",
      "['x‑p']\n",
      "['xp']\n",
      "['x‑p']\n",
      "['xp']\n",
      "[':‑p']\n",
      "[':p']\n",
      "[':‑þ']\n",
      "[':þ']\n",
      "[':‑þ']\n",
      "[':þ']\n",
      "[':‑b']\n",
      "[':b']\n",
      "['d:']\n",
      "['=p']\n",
      "['>:p']\n",
      "[':‑/']\n",
      "[':/']\n",
      "[':‑.']\n",
      "['>:\\\\']\n",
      "['>:/']\n",
      "[':\\\\']\n",
      "['=/']\n",
      "['=\\\\']\n",
      "[':l']\n",
      "['=l']\n",
      "[':s']\n",
      "[':‑|']\n",
      "[':|']\n",
      "[':$']\n",
      "[':‑x']\n",
      "[':x']\n",
      "[':‑#']\n",
      "[':#']\n",
      "[':‑&']\n",
      "[':&']\n",
      "['o:‑)']\n",
      "['o:)']\n",
      "['0:‑3']\n",
      "['0:3']\n",
      "['0:‑)']\n",
      "['0:)']\n",
      "['0;^)']\n",
      "['>:‑)']\n",
      "['>:)']\n",
      "['}:‑)']\n",
      "['}:)']\n",
      "['3:‑)']\n",
      "['3:)']\n",
      "['>;)']\n",
      "['|;‑)']\n",
      "['|‑o']\n",
      "[':‑j']\n"
     ]
    }
   ],
   "source": [
    "for x in words:\n",
    "    words.remove(x)\n",
    "    words.append(remove_symbols(x,\"\"))   \n",
    "fi=open('slang.csv')\n",
    "for x in fi:\n",
    "    x=x.split(',')\n",
    "    slang[x[0].lower()]=x[1].replace(\"\\n\",\"\").lower()\n",
    "emx,emy=read('all_emo.csv')\n",
    "for i in range(len(emx)):\n",
    "    emx[i]=emx[i].replace(\"\\n\",\"\").lower()\n",
    "st=time.time()\n",
    "train(emx,emy,ttype=\"emoji\")\n",
    "et=time.time()\n",
    "#print(et-st)\n",
    "#x,y=read('train1.csv',encoding=\"latin1\")\n",
    "#xtrain,xtest,ytrain,ytest=train_test_split_list(x,y,test_size=0.3)\n",
    "#train(xtrain,ytrain)"
   ]
  },
  {
   "cell_type": "code",
   "execution_count": 13,
   "metadata": {
    "scrolled": false
   },
   "outputs": [
    {
     "name": "stdout",
     "output_type": "stream",
     "text": [
      "240 240\n",
      "accuracy= 0.7916666666666666\n",
      "Recall= 0.6236559139784946\n",
      "Precision= 0.7945205479452054\n",
      "Confusion Matrix\n",
      " [[132  15]\n",
      " [ 35  58]]\n"
     ]
    }
   ],
   "source": [
    "pred=test(xtest)\n",
    "print(len(pred),len(ytest))\n",
    "oacc=metrics.accuracy_score(ytest,pred)\n",
    "oprec=metrics.precision_score(ytest,pred)\n",
    "orec=metrics.recall_score(ytest,pred)\n",
    "print(\"accuracy=\",oacc)\n",
    "print(\"Recall=\",orec)\n",
    "print(\"Precision=\",oprec)\n",
    "print(\"Confusion Matrix\\n\",metrics.confusion_matrix(ytest,pred))"
   ]
  },
  {
   "cell_type": "markdown",
   "metadata": {},
   "source": [
    "### Common words in positive tweets"
   ]
  },
  {
   "cell_type": "code",
   "execution_count": 15,
   "metadata": {
    "scrolled": true
   },
   "outputs": [
    {
     "data": {
      "text/plain": [
       "<matplotlib.image.AxesImage at 0x15d1bb92860>"
      ]
     },
     "execution_count": 15,
     "metadata": {},
     "output_type": "execute_result"
    },
    {
     "data": {
      "image/png": "[encoded data removed]",
      "text/plain": [
       "<Figure size 432x288 with 1 Axes>"
      ]
     },
     "metadata": {
      "needs_background": "light"
     },
     "output_type": "display_data"
    }
   ],
   "source": [
    "from PIL import Image\n",
    "import matplotlib.pyplot as plt\n",
    "from wordcloud import WordCloud\n",
    "\n",
    "posdict={}\n",
    "for i in poscount:\n",
    "    if i not in negcount:\n",
    "        posdict[i]=poscount[i]        \n",
    "wc = WordCloud(background_color=\"black\",max_words=50,normalize_plurals=False).generate_from_frequencies(posdict)\n",
    "plt.imshow(wc)"
   ]
  },
  {
   "cell_type": "markdown",
   "metadata": {},
   "source": [
    "### Common words in negative tweets"
   ]
  },
  {
   "cell_type": "code",
   "execution_count": 16,
   "metadata": {
    "scrolled": false
   },
   "outputs": [
    {
     "data": {
      "text/plain": [
       "'negdict={}\\nfor i in negcount:\\n    if i not in poscount:\\n        negdict[i]=negcount[i]\\nwc1 = WordCloud(background_color=\"black\",max_words=50,relative_scaling=0.5,normalize_plurals=False).generate_from_frequencies(negdict)\\nplt.imshow(wc1)'"
      ]
     },
     "execution_count": 16,
     "metadata": {},
     "output_type": "execute_result"
    }
   ],
   "source": [
    "negdict={}\n",
    "for i in negcount:\n",
    "    if i not in poscount:\n",
    "        negdict[i]=negcount[i]\n",
    "wc1 = WordCloud(background_color=\"black\",max_words=50,relative_scaling=0.5,normalize_plurals=False).generate_from_frequencies(negdict)\n",
    "plt.imshow(wc1)"
   ]
  },
  {
   "cell_type": "markdown",
   "metadata": {},
   "source": [
    "### Reading data set for MNB,SVC and Random forest and splitting them to test and train set"
   ]
  },
  {
   "cell_type": "code",
   "execution_count": null,
   "metadata": {},
   "outputs": [],
   "source": [
    "from sklearn.feature_extraction.text import CountVectorizer\n",
    "from sklearn.model_selection import train_test_split\n",
    "import pandas as pd\n",
    "\n",
    "msg=pd.read_csv(\"preprocessed.csv\",names=[\"label\",\"value\"],encoding=\"latin1\")\n",
    "emoji=pd.read_csv(\"all_emo.csv\",names=[\"label\",\"value\"])\n",
    "'''for i,x in msg[\"value\"].items():\n",
    "    c=extract_emo(x)\n",
    "    m=preprocess(x)\n",
    "    for emos in c:     \n",
    "        m+=\" \"+emos\n",
    "    msg.at[i,\"value\"]=m'''\n",
    "\n",
    "\n",
    "cv= CountVectorizer()\n",
    "xtr_dtm=cv.fit_transform(xtrain1.values.astype('U'))\n",
    "xte_dtm=cv.transform(xtest1.values.astype('U'))\n",
    "xemo=cv.fit_transform(emoji.value)\n",
    "\n"
   ]
  },
  {
   "cell_type": "markdown",
   "metadata": {},
   "source": [
    "### Multinomial Naive Bayes Algorithm"
   ]
  },
  {
   "cell_type": "code",
   "execution_count": null,
   "metadata": {},
   "outputs": [],
   "source": [
    "from sklearn.naive_bayes import MultinomialNB\n",
    "\n",
    "clf=MultinomialNB()"
   ]
  },
  {
   "cell_type": "code",
   "execution_count": 45,
   "metadata": {
    "scrolled": true
   },
   "outputs": [
    {
     "name": "stdout",
     "output_type": "stream",
     "text": [
      "accuracy= 0.6125\n",
      "Recall= 0.21818181818181817\n",
      "Precision= 0.3870967741935484\n",
      "Confusion Matrix\n",
      " [[86 19]\n",
      " [43 12]]\n"
     ]
    }
   ],
   "source": [
    "\n",
    "clf.fit(xemo,emoji.label)\n",
    "clf.fit(xtr_dtm,ytrain1)\n",
    "MNBpred= clf.predict(xte_dtm)\n",
    "\n",
    "MNBacc=metrics.accuracy_score(ytest1,MNBpred)\n",
    "MNBrec=metrics.recall_score(ytest1,MNBpred)\n",
    "MNBprec=metrics.precision_score(ytest1,MNBpred)\n",
    "print(\"accuracy=\",MNBacc)\n",
    "print(\"Recall=\",MNBrec)\n",
    "print(\"Precision=\",MNBprec)\n",
    "print(\"Confusion Matrix\\n\",metrics.confusion_matrix(ytest1,MNBpred))"
   ]
  },
  {
   "cell_type": "markdown",
   "metadata": {},
   "source": [
    "### Support vector classifier"
   ]
  },
  {
   "cell_type": "code",
   "execution_count": null,
   "metadata": {},
   "outputs": [],
   "source": [
    "from sklearn.svm import SVC\n",
    "svclassifier=SVC(kernel='linear')"
   ]
  },
  {
   "cell_type": "code",
   "execution_count": 46,
   "metadata": {
    "scrolled": true
   },
   "outputs": [
    {
     "name": "stdout",
     "output_type": "stream",
     "text": [
      "accuracy= 0.60625\n",
      "Recall= 0.3090909090909091\n",
      "Precision= 0.40476190476190477\n",
      "Confusion Matrix\n",
      " [[80 25]\n",
      " [38 17]]\n"
     ]
    }
   ],
   "source": [
    "\n",
    "svclassifier.fit(xtr_dtm,ytrain1)\n",
    "ypred=svclassifier.predict(xte_dtm)\n",
    "\n",
    "svcacc=metrics.accuracy_score(ytest1,ypred)\n",
    "svcprec=metrics.precision_score(ytest1,ypred)\n",
    "svcrec=metrics.recall_score(ytest1,ypred)\n",
    "print(\"accuracy=\",svcacc)\n",
    "print(\"Recall=\",svcrec)\n",
    "print(\"Precision=\",svcprec)\n",
    "print(\"Confusion Matrix\\n\",metrics.confusion_matrix(ytest1,ypred))"
   ]
  },
  {
   "cell_type": "markdown",
   "metadata": {},
   "source": [
    "### Random forest classifier"
   ]
  },
  {
   "cell_type": "code",
   "execution_count": 47,
   "metadata": {
    "scrolled": true
   },
   "outputs": [
    {
     "name": "stdout",
     "output_type": "stream",
     "text": [
      "accuracy= 0.6\n",
      "Recall= 0.32727272727272727\n",
      "Precision= 0.4\n",
      "Confusion Matrix\n",
      " [[78 27]\n",
      " [37 18]]\n"
     ]
    }
   ],
   "source": [
    "from sklearn.ensemble import RandomForestClassifier\n",
    "clf = RandomForestClassifier(n_estimators=300)\n",
    "clf = clf.fit(xtr_dtm,ytrain1)\n",
    "ry_pred = clf.predict(xte_dtm)\n",
    "racc=metrics.accuracy_score(ytest1,ry_pred)\n",
    "rprec=metrics.precision_score(ytest1,ry_pred)\n",
    "rrec=metrics.recall_score(ytest1,ry_pred)\n",
    "print(\"accuracy=\",racc)\n",
    "print(\"Recall=\",rrec)\n",
    "print(\"Precision=\",rprec)\n",
    "print(\"Confusion Matrix\\n\",metrics.confusion_matrix(ytest1,ry_pred))"
   ]
  },
  {
   "cell_type": "markdown",
   "metadata": {},
   "source": [
    "### Accuracy of all 4 algorithms"
   ]
  },
  {
   "cell_type": "code",
   "execution_count": 48,
   "metadata": {
    "scrolled": true
   },
   "outputs": [
    {
     "data": {
      "image/png": "[encoded data removed]",
      "text/plain": [
       "<Figure size 432x288 with 1 Axes>"
      ]
     },
     "metadata": {},
     "output_type": "display_data"
    }
   ],
   "source": [
    "acc_list=[oacc,MNBacc,svcacc,racc]\n",
    "names=[\"Prob\",\"MNB\",\"SVC\",\"Random forest\"]\n",
    "plt.bar(names,acc_list, align='center', alpha=0.5)\n",
    "plt.show()"
   ]
  },
  {
   "cell_type": "markdown",
   "metadata": {},
   "source": [
    "### Precision of all 4 algorithms"
   ]
  },
  {
   "cell_type": "code",
   "execution_count": 49,
   "metadata": {
    "scrolled": true
   },
   "outputs": [
    {
     "data": {
      "image/png": "[encoded data removed]",
      "text/plain": [
       "<Figure size 432x288 with 1 Axes>"
      ]
     },
     "metadata": {},
     "output_type": "display_data"
    }
   ],
   "source": [
    "acc_list=[oprec,MNBprec,svcprec,rprec]\n",
    "names=[\"Prob\",\"MNB\",\"SVC\",\"Random forest\"]\n",
    "plt.bar(names,acc_list, align='center', alpha=0.5)\n",
    "plt.show()"
   ]
  },
  {
   "cell_type": "markdown",
   "metadata": {},
   "source": [
    "### Recall of all 4 algorithms"
   ]
  },
  {
   "cell_type": "code",
   "execution_count": null,
   "metadata": {
    "scrolled": false
   },
   "outputs": [],
   "source": [
    "acc_list=[orec,MNBrec,svcrec,rrec]\n",
    "names=[\"Prob\",\"MNB\",\"SVC\",\"Random forest\"]\n",
    "plt.bar(names,acc_list, align='center', alpha=0.5)\n",
    "plt.show()"
   ]
  }
 ],
 "metadata": {
  "kernelspec": {
   "display_name": "Python 3",
   "language": "python",
   "name": "python3"
  },
  "language_info": {
   "codemirror_mode": {
    "name": "ipython",
    "version": 3
   },
   "file_extension": ".py",
   "mimetype": "text/x-python",
   "name": "python",
   "nbconvert_exporter": "python",
   "pygments_lexer": "ipython3",
   "version": "3.7.3"
  }
 },
 "nbformat": 4,
 "nbformat_minor": 2
}
